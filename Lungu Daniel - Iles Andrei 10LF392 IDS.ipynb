{
 "cells": [
  {
   "cell_type": "code",
   "execution_count": 1,
   "metadata": {},
   "outputs": [
    {
     "name": "stdout",
     "output_type": "stream",
     "text": [
      "43\n"
     ]
    }
   ],
   "source": [
    "#  1.Se da o lista de numere. Sa se afiseze diferenta dintre: suma celor mai mari 3 numere si produsul\n",
    "# celor mai mici 2 numere.\n",
    "# lista = [10, 3, 5, 20, -4, 9, 1] -> 43\n",
    "# lista = [0, -1, -2, -3 , -4] -> -15\n",
    "\n",
    "lista = [10, 3, 5, 20, -4, 9, 1]\n",
    "lista.sort()\n",
    "\n",
    "suma=lista[-1]+lista[-2]+lista[-3]\n",
    "produs=lista[0]*lista[1]\n",
    "\n",
    "\n",
    "dif=suma-produs\n",
    "print(dif)"
   ]
  },
  {
   "cell_type": "code",
   "execution_count": 2,
   "metadata": {},
   "outputs": [
    {
     "name": "stdout",
     "output_type": "stream",
     "text": [
      "[['doi', 2], ['trei', 2], ['un', 1]]\n"
     ]
    }
   ],
   "source": [
    "# 2. Se da o lista de cuvinte. Sa se determine cuvintele unice (fara diferenta intre litere mici si mari) si de\n",
    "# cate ori apare fiecare.\n",
    "\n",
    "\n",
    "\n",
    "lista=['doi', 'doi', 'trei', 'Trei', 'un']\n",
    "wordfreq=[]\n",
    "for index in range(0, len(lista)):\n",
    "    lista[index]=lista[index].lower()\n",
    "\n",
    "freq=[]\n",
    "    \n",
    "for word in lista:\n",
    "    wordfreq.append([word, lista.count(word)])\n",
    "\n",
    "for element in wordfreq:\n",
    "    if element not in freq:\n",
    "        freq.append(element)\n",
    "\n",
    "print(freq)\n"
   ]
  },
  {
   "cell_type": "code",
   "execution_count": 3,
   "metadata": {},
   "outputs": [
    {
     "name": "stdout",
     "output_type": "stream",
     "text": [
      "Salariul mediu =  2140.0\n",
      "Salariul minim =  1800\n",
      "Salariul maxim =  3000\n",
      "a=20\n",
      "b=22\n",
      "Persoane cu varsta cuprinsa intre 20 si 22 ani :\n",
      "Lungu\n",
      "Axinte\n",
      "Animal/e cu cele mai multe preferinte:\n",
      " ['pisica', 'caine']\n",
      "Persoane de gen feminin =  2\n",
      "Persoane de gen masculin =  3\n"
     ]
    }
   ],
   "source": [
    "# 8. Se da o lista de dictionare de forma:\n",
    "# [\n",
    "# {\"nume\": \"Popescu\",\n",
    "# \"gen\": feminin,\n",
    "# \"varsta\": 30,\n",
    "# \"salariu\": 2000,\n",
    "# \"animal preferat\": \"pisica\",\n",
    "# },\n",
    "# {\"nume\": \"Irimia\",\n",
    "# \"varsta\": 40,\n",
    "# \"gen\": \"masculin\"\n",
    "# \"salariu\": 3000,\n",
    "# \"animal preferat\": \"caine\"\n",
    "# },\n",
    "# # etc\n",
    "# ]\n",
    "# Sa se determine:\n",
    "# A. salariul mediu, minim si maxim\n",
    "# B. cei care au varsta intr-un anumit interval dat [a, b]\n",
    "# C. care este animalul cu cele mai multe preferinte. Daca sunt mai multe astfel e animale, atunci se vor da\n",
    "# toate\n",
    "# D. cate persoane de gen feminin si respectiv masculin sunt in lista\n",
    "# Nota: Toate dictionarele au aceleasi chei: nume etc.\n",
    "\n",
    "\n",
    "lista=[{\"nume\": \"Popescu\",\"gen\": \"feminin\",\"varsta\": 30,\n",
    "\"salariu\": 2000, \"animal preferat\": \"pisica\"\n",
    "},\n",
    "{\"nume\": \"Irimia\", \"varsta\": 40,\n",
    "\"gen\": \"masculin\", \"salariu\": 3000,\n",
    "\"animal preferat\": \"caine\"\n",
    "}, {\"nume\":\"Ionescu\", \"gen\": \"masculin\", \"varsta\": 23, \n",
    "    \"salariu\":1900, \"animal preferat\":\"iepure\" },\n",
    "      {\"nume\": \"Lungu\",\"gen\": \"masculin\",\"varsta\": 21,\n",
    "\"salariu\": 2000, \"animal preferat\": \"caine\"\n",
    "}, {\"nume\": \"Axinte\",\"gen\": \"feminin\",\"varsta\": 20,\n",
    "\"salariu\": 1800, \"animal preferat\": \"pisica\"\n",
    "}]\n",
    "\n",
    "suma=0\n",
    "nr=0\n",
    "\n",
    "salarii=[]\n",
    "animale=[]\n",
    "freq_gen={\"masculin\":0, \"feminin\":0}\n",
    "masc=0\n",
    "fem=0\n",
    "for persoana in lista:\n",
    "    suma=suma+persoana[\"salariu\"]\n",
    "    nr=nr+1\n",
    "    salarii.append(persoana[\"salariu\"])\n",
    "    animale.append(persoana[\"animal preferat\"])\n",
    "    if persoana[\"gen\"]==\"masculin\":\n",
    "        masc=masc+1\n",
    "    elif persoana[\"gen\"]==\"feminin\":\n",
    "        fem=fem+1\n",
    "    \n",
    "freq_gen[\"masculin\"]=masc\n",
    "freq_gen[\"feminin\"]=fem\n",
    "\n",
    "print(\"Salariul mediu = \", suma/nr)\n",
    "print(\"Salariul minim = \", min(salarii))\n",
    "print(\"Salariul maxim = \", max(salarii))\n",
    "\n",
    "varsta_a=int(input(\"a=\"))\n",
    "varsta_b=int(input(\"b=\"))\n",
    "\n",
    "print(f\"Persoane cu varsta cuprinsa intre {varsta_a} si {varsta_b} ani :\")\n",
    "for pers in lista:\n",
    "    if pers[\"varsta\"]>=varsta_a and pers[\"varsta\"]<=varsta_b:\n",
    "        print(pers[\"nume\"])\n",
    "\n",
    "freq=[]\n",
    "for animal in animale:\n",
    "    freq.append(animale.count(animal))\n",
    "\n",
    "animale_preferate=[]\n",
    "preferat=max(freq)\n",
    "for index in range(0, len(freq)):\n",
    "    if freq[index]==preferat:\n",
    "        if animale[index] not in animale_preferate:\n",
    "            animale_preferate.append(animale[index])\n",
    "\n",
    "print(\"Animal/e cu cele mai multe preferinte:\\n\", animale_preferate)\n",
    "\n",
    "print(\"Persoane de gen feminin = \", freq_gen[\"feminin\"])\n",
    "print(\"Persoane de gen masculin = \", freq_gen[\"masculin\"])"
   ]
  },
  {
   "cell_type": "code",
   "execution_count": null,
   "metadata": {},
   "outputs": [],
   "source": []
  }
 ],
 "metadata": {
  "kernelspec": {
   "display_name": "Python 3",
   "language": "python",
   "name": "python3"
  },
  "language_info": {
   "codemirror_mode": {
    "name": "ipython",
    "version": 3
   },
   "file_extension": ".py",
   "mimetype": "text/x-python",
   "name": "python",
   "nbconvert_exporter": "python",
   "pygments_lexer": "ipython3",
   "version": "3.8.3"
  }
 },
 "nbformat": 4,
 "nbformat_minor": 4
}
